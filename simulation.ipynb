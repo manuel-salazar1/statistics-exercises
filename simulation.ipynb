{
 "cells": [
  {
   "cell_type": "markdown",
   "id": "2008402c",
   "metadata": {},
   "source": [
    "#### 1. How likely is it that you roll doubles when rolling two dice?"
   ]
  },
  {
   "cell_type": "code",
   "execution_count": 1,
   "id": "ab98ea41",
   "metadata": {},
   "outputs": [],
   "source": [
    "%matplotlib inline\n",
    "import numpy as np\n",
    "import pandas as pd\n",
    "\n",
    "np.random.seed(123)\n"
   ]
  },
  {
   "cell_type": "code",
   "execution_count": 2,
   "id": "9a20515a",
   "metadata": {},
   "outputs": [],
   "source": [
    "outcomes = [1,2,3,4,5,6]\n",
    "n_trials = 2\n",
    "n_sims = 100_000"
   ]
  },
  {
   "cell_type": "code",
   "execution_count": 3,
   "id": "35a9c3a1",
   "metadata": {},
   "outputs": [
    {
     "data": {
      "text/plain": [
       "array([[6, 3],\n",
       "       [5, 3],\n",
       "       [2, 4],\n",
       "       ...,\n",
       "       [5, 5],\n",
       "       [5, 4],\n",
       "       [4, 6]])"
      ]
     },
     "execution_count": 3,
     "metadata": {},
     "output_type": "execute_result"
    }
   ],
   "source": [
    "rolls = np.random.choice(outcomes,(n_sims, n_trials))\n",
    "rolls "
   ]
  },
  {
   "cell_type": "code",
   "execution_count": 10,
   "id": "1ed54821",
   "metadata": {},
   "outputs": [
    {
     "data": {
      "text/plain": [
       "['1,1', '2,2', '3,3', '4,4', '5,5', '6,6']"
      ]
     },
     "execution_count": 10,
     "metadata": {},
     "output_type": "execute_result"
    }
   ],
   "source": [
    "doubles = ['1,1','2,2','3,3','4,4','5,5','6,6']\n",
    "doubles"
   ]
  },
  {
   "cell_type": "markdown",
   "id": "a784c988",
   "metadata": {},
   "source": [
    "Answer below"
   ]
  },
  {
   "cell_type": "code",
   "execution_count": 4,
   "id": "a3fe717c",
   "metadata": {},
   "outputs": [
    {
     "data": {
      "text/plain": [
       "0.16497"
      ]
     },
     "execution_count": 4,
     "metadata": {},
     "output_type": "execute_result"
    }
   ],
   "source": [
    "(rolls[:,0]==rolls[:,1]).mean() "
   ]
  },
  {
   "cell_type": "markdown",
   "id": "1961c06f",
   "metadata": {},
   "source": [
    "Answer above"
   ]
  },
  {
   "cell_type": "markdown",
   "id": "7c67dcee",
   "metadata": {},
   "source": [
    "## Bonus"
   ]
  },
  {
   "cell_type": "markdown",
   "id": "4fa8fd0e",
   "metadata": {},
   "source": [
    "#### 2. If you flip 8 coins, what is the probability of getting exactly 3 heads? What is the probability of getting more than 3 heads?"
   ]
  },
  {
   "cell_type": "code",
   "execution_count": 35,
   "id": "36062a69",
   "metadata": {},
   "outputs": [
    {
     "data": {
      "text/plain": [
       "['H', 'T']"
      ]
     },
     "execution_count": 35,
     "metadata": {},
     "output_type": "execute_result"
    }
   ],
   "source": [
    "flip_outcome = ['H','T']\n",
    "flip_outcome"
   ]
  },
  {
   "cell_type": "code",
   "execution_count": 36,
   "id": "05b57f77",
   "metadata": {},
   "outputs": [],
   "source": [
    "cf_trials = 8"
   ]
  },
  {
   "cell_type": "code",
   "execution_count": 37,
   "id": "b40ceac1",
   "metadata": {},
   "outputs": [],
   "source": [
    "cf_sims = 100_000"
   ]
  },
  {
   "cell_type": "code",
   "execution_count": 39,
   "id": "3d340994",
   "metadata": {},
   "outputs": [
    {
     "data": {
      "text/plain": [
       "array([['T', 'H', 'H', ..., 'H', 'T', 'T'],\n",
       "       ['H', 'H', 'T', ..., 'T', 'T', 'T'],\n",
       "       ['H', 'H', 'T', ..., 'H', 'T', 'H'],\n",
       "       ...,\n",
       "       ['T', 'H', 'T', ..., 'T', 'H', 'H'],\n",
       "       ['T', 'T', 'T', ..., 'T', 'T', 'T'],\n",
       "       ['T', 'T', 'H', ..., 'H', 'H', 'T']], dtype='<U1')"
      ]
     },
     "execution_count": 39,
     "metadata": {},
     "output_type": "execute_result"
    }
   ],
   "source": [
    "coin_flips = np.random.choice(flip_outcome,(cf_sims,cf_trials))\n",
    "coin_flips"
   ]
  },
  {
   "cell_type": "code",
   "execution_count": 41,
   "id": "bc1e0841",
   "metadata": {},
   "outputs": [],
   "source": [
    "head_counts = (coin_flips == 'H').sum(axis=1)"
   ]
  },
  {
   "cell_type": "code",
   "execution_count": 42,
   "id": "04ad1415",
   "metadata": {},
   "outputs": [
    {
     "data": {
      "text/plain": [
       "0.21799"
      ]
     },
     "execution_count": 42,
     "metadata": {},
     "output_type": "execute_result"
    }
   ],
   "source": [
    "(head_counts == 3).mean()"
   ]
  },
  {
   "cell_type": "markdown",
   "id": "54e2f2bc",
   "metadata": {},
   "source": [
    "#### 3. There are approximitely 3 web development cohorts for every 1 data science cohort at Codeup. Assuming that Codeup randomly selects an alumni to put on a billboard, what are the odds that the two billboards I drive past both have data science students on them?"
   ]
  },
  {
   "cell_type": "code",
   "execution_count": null,
   "id": "1d38d87a",
   "metadata": {},
   "outputs": [],
   "source": []
  },
  {
   "cell_type": "code",
   "execution_count": null,
   "id": "ac1667a6",
   "metadata": {},
   "outputs": [],
   "source": []
  },
  {
   "cell_type": "markdown",
   "id": "c16d8fbc",
   "metadata": {},
   "source": [
    "# Notes"
   ]
  },
  {
   "cell_type": "code",
   "execution_count": 5,
   "id": "b6aa24ab",
   "metadata": {},
   "outputs": [],
   "source": [
    "import matplotlib.pyplot as plt\n",
    "import numpy as np\n",
    "from scipy import stats\n",
    "\n",
    "\n",
    "np.random.seed(123)\n"
   ]
  },
  {
   "cell_type": "markdown",
   "id": "3d43d9f4",
   "metadata": {},
   "source": [
    "The average battery life for a fully charges iphone-12 is 14 hours with standard deviation of 1.5 hour\n",
    "\n",
    "What kind of probability distribution represents the random variable \"battery life in hours\"?\n",
    "What are the appropriate defining parameters for this distribution?\n",
    "Create a Scipy object/instance for this distribution\n",
    "Use the object create above and choose appropriate method (e.g. pmf, cdf, ppf etc.) to calculate the following:\n",
    " \n",
    " a. What is the probability the cell phone battery more than 16 hours.  \n",
    "\n",
    "b. What is probability that cell phone battery lasts for exactly 12 hours.  \n",
    "\n",
    "c. What is the probability that cell phone battery lasts for 12 hours or less.  \n",
    "\n",
    "d. How many hours do the battery lasts for top 25% longest lasting phones. "
   ]
  },
  {
   "cell_type": "code",
   "execution_count": 6,
   "id": "877c958e",
   "metadata": {},
   "outputs": [],
   "source": [
    "batt_mean = 14\n",
    "batt_std = 1.5"
   ]
  },
  {
   "cell_type": "code",
   "execution_count": 7,
   "id": "c609678d",
   "metadata": {},
   "outputs": [],
   "source": [
    "batt_life = stats.norm(batt_mean, batt_std)"
   ]
  },
  {
   "cell_type": "code",
   "execution_count": 8,
   "id": "0d320ddd",
   "metadata": {},
   "outputs": [
    {
     "data": {
      "text/plain": [
       "0.09121121972586788"
      ]
     },
     "execution_count": 8,
     "metadata": {},
     "output_type": "execute_result"
    }
   ],
   "source": [
    "batt_life.sf(16)"
   ]
  },
  {
   "cell_type": "code",
   "execution_count": 18,
   "id": "75f9fa28",
   "metadata": {},
   "outputs": [
    {
     "data": {
      "text/plain": [
       "0.10934004978399577"
      ]
     },
     "execution_count": 18,
     "metadata": {},
     "output_type": "execute_result"
    }
   ],
   "source": [
    "batt_life.pdf(12)"
   ]
  },
  {
   "cell_type": "code",
   "execution_count": 16,
   "id": "e694fbbf",
   "metadata": {},
   "outputs": [
    {
     "data": {
      "text/plain": [
       "0.09121121972586788"
      ]
     },
     "execution_count": 16,
     "metadata": {},
     "output_type": "execute_result"
    }
   ],
   "source": [
    "batt_life.cdf(12)"
   ]
  },
  {
   "cell_type": "code",
   "execution_count": 11,
   "id": "6dbe36c9",
   "metadata": {},
   "outputs": [
    {
     "data": {
      "text/plain": [
       "15.011734625294123"
      ]
     },
     "execution_count": 11,
     "metadata": {},
     "output_type": "execute_result"
    }
   ],
   "source": [
    "batt_life.isf(.25)"
   ]
  },
  {
   "cell_type": "code",
   "execution_count": null,
   "id": "fdee63f2",
   "metadata": {},
   "outputs": [],
   "source": []
  }
 ],
 "metadata": {
  "kernelspec": {
   "display_name": "Python 3 (ipykernel)",
   "language": "python",
   "name": "python3"
  },
  "language_info": {
   "codemirror_mode": {
    "name": "ipython",
    "version": 3
   },
   "file_extension": ".py",
   "mimetype": "text/x-python",
   "name": "python",
   "nbconvert_exporter": "python",
   "pygments_lexer": "ipython3",
   "version": "3.9.13"
  }
 },
 "nbformat": 4,
 "nbformat_minor": 5
}
