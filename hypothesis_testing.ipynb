{
 "cells": [
  {
   "cell_type": "code",
   "execution_count": 2,
   "id": "d891364e",
   "metadata": {},
   "outputs": [],
   "source": [
    "import numpy as np\n",
    "import pandas as pd\n",
    "import matplotlib.pyplot as plt\n",
    "import scipy.stats as stats\n",
    "import seaborn as sns\n",
    "from env import username, password, get_db_url\n",
    "\n",
    "# db_url = f'mysql+pymysql://{env.user}:{env.password}@{env.host}/telco_churn'\n",
    "# df = pd.read_sql('SELECT * FROM customers', db_url)  \n"
   ]
  },
  {
   "cell_type": "markdown",
   "id": "7cd0444c",
   "metadata": {},
   "source": [
    "### For each of the following questions, formulate a null and alternative hypothesis (be as specific as you can be), then give an example of what a true positive, true negative, type I and type II errors would look like. Note that some of the questions are intentionally phrased in a vague way. It is your job to reword these as more precise questions that could be tested."
   ]
  },
  {
   "cell_type": "markdown",
   "id": "82825714",
   "metadata": {},
   "source": [
    "#### - Has the network latency gone up since we switched internet service providers?"
   ]
  },
  {
   "cell_type": "markdown",
   "id": "be5cc010",
   "metadata": {},
   "source": [
    "H0 - ISP has no effect on internet latency\n",
    "\n",
    "H1 - Network latency has increased after we switched ISP\n",
    "\n",
    "True Positive - Our network latency increased after we switched\n",
    "\n",
    "True Negative - there was no change in network latency between ISPs\n",
    "\n",
    "Type 1 - Our network latency did not increase BUT we rejected the H0\n",
    "\n",
    "Type 2 - Our network latency did increase BUT we accepted H0"
   ]
  },
  {
   "cell_type": "markdown",
   "id": "3654a7bb",
   "metadata": {},
   "source": [
    "#### - Is the website redesign any good?"
   ]
  },
  {
   "cell_type": "markdown",
   "id": "b7a81050",
   "metadata": {},
   "source": [
    "H0 - There was no change in customer engagement after our website redesign\n",
    "\n",
    "H1 - There was an increase in customer engagement after our website redesign\n",
    "\n",
    "True Positive - Customer engagement DID increase after our website redesign\n",
    "\n",
    "True Negative - Customer engagement DID NOT increase after our website redesign\n",
    "\n",
    "Type 1 - Customer engagement DID NOT increase BUT we rejected the H0\n",
    "\n",
    "Type 2 - Customer engagement DID increase BUT we accepted H0"
   ]
  },
  {
   "cell_type": "markdown",
   "id": "1df447b5",
   "metadata": {},
   "source": [
    "#### - Is our television ad driving more sales?"
   ]
  },
  {
   "cell_type": "markdown",
   "id": "b886c0b6",
   "metadata": {},
   "source": [
    "H0 - Our television ad had no effect on our sales\n",
    "\n",
    "H1 - Our television ad increased sales\n",
    "\n",
    "True Positive - Sales DID increase after our television ad\n",
    "\n",
    "True Negative - Sales DID NOT increase after our television ad\n",
    "\n",
    "Type 1 - Sales DID NOT increase BUT we rejected the H0\n",
    "\n",
    "Type 2 - Sales DID increase BUT we accepted H0"
   ]
  },
  {
   "cell_type": "markdown",
   "id": "55c5024f",
   "metadata": {},
   "source": [
    "### 1. Answer with the type of test you would use (assume normal distribution):"
   ]
  },
  {
   "cell_type": "markdown",
   "id": "31297d2d",
   "metadata": {},
   "source": [
    "* Is there a difference in grades of students on the second floor compared to grades of all students?"
   ]
  },
  {
   "cell_type": "markdown",
   "id": "d3ee7654",
   "metadata": {},
   "source": [
    "A.) One sample t-test : 2 tails"
   ]
  },
  {
   "cell_type": "markdown",
   "id": "68a3afcc",
   "metadata": {},
   "source": [
    "* Are adults who drink milk taller than adults who dont drink milk?"
   ]
  },
  {
   "cell_type": "markdown",
   "id": "4bcccdd6",
   "metadata": {},
   "source": [
    "A.) 2 Sample t-test : 1 tail"
   ]
  },
  {
   "cell_type": "markdown",
   "id": "943d46d3",
   "metadata": {},
   "source": [
    "* Is the the price of gas higher in texas or in new mexico?"
   ]
  },
  {
   "cell_type": "markdown",
   "id": "48d080d6",
   "metadata": {},
   "source": [
    "A.) 2 Sample t-test : 1 tail"
   ]
  },
  {
   "cell_type": "markdown",
   "id": "324b8146",
   "metadata": {},
   "source": [
    "* Are there differences in stress levels between students who take data science vs students who take web development vs students who take cloud academy?"
   ]
  },
  {
   "cell_type": "markdown",
   "id": "c66eac88",
   "metadata": {},
   "source": [
    "A.) ANOVA"
   ]
  },
  {
   "cell_type": "markdown",
   "id": "944bce5f",
   "metadata": {},
   "source": [
    "### 2. Ace Realty wants to determine whether the average time it takes to sell homes is different for its two offices. \n",
    "\n",
    "### A sample of 40 sales from office #1 revealed a mean of 90 days and a standard deviation of 15 days. \n",
    "\n",
    "### A sample of 50 sales from office #2 revealed a mean of 100 days and a standard deviation of 20 days. Use a .05 level of significance."
   ]
  },
  {
   "cell_type": "code",
   "execution_count": null,
   "id": "f3c51c72",
   "metadata": {},
   "outputs": [],
   "source": [
    "# sample_1 = 40\n",
    "# mean_1 = 90 days\n",
    "# std_1 = 15 days\n",
    "\n",
    "# sample_2 = 50\n",
    "# mean_2 = 100 days\n",
    "# std_2 = 20 days\n",
    "\n",
    "# alpha = 0.05"
   ]
  },
  {
   "cell_type": "markdown",
   "id": "d3722ff6",
   "metadata": {},
   "source": [
    "$H{0}$ : There is no difference in average time to sell a home between its 2 office locations.\n",
    "\n",
    "$H{a}$ : There is a difference in average time to sell a home between its 2 office locations."
   ]
  },
  {
   "cell_type": "code",
   "execution_count": 218,
   "id": "c0043181",
   "metadata": {},
   "outputs": [],
   "source": [
    "a = 0.05"
   ]
  },
  {
   "cell_type": "code",
   "execution_count": 9,
   "id": "07feaccd",
   "metadata": {},
   "outputs": [],
   "source": [
    "mean_1 = 90 \n",
    "std_1 = 15\n",
    "\n",
    "mean_2 = 100\n",
    "std_2 = 20"
   ]
  },
  {
   "cell_type": "code",
   "execution_count": 28,
   "id": "9922a633",
   "metadata": {},
   "outputs": [],
   "source": [
    "dist_1 = stats.norm(mean_1, std_1)\n",
    "samples_1 = dist_1.rvs(size=40)"
   ]
  },
  {
   "cell_type": "code",
   "execution_count": 29,
   "id": "78e8e1c8",
   "metadata": {},
   "outputs": [],
   "source": [
    "dist_2 = stats.norm(mean_2, std_2)\n",
    "samples_2 = dist_2.rvs(size=50)"
   ]
  },
  {
   "cell_type": "code",
   "execution_count": 46,
   "id": "3257b30e",
   "metadata": {},
   "outputs": [
    {
     "data": {
      "text/plain": [
       "array([ 70.4656141 , 104.02749578,  69.93747671, 102.90061442,\n",
       "        92.50084322,  62.09454385,  82.36939815,  92.82707504,\n",
       "        64.913909  ,  79.76367128,  85.3878516 , 107.86620985,\n",
       "       109.50073031,  63.36848813, 103.66236889,  67.5417149 ,\n",
       "        80.32407054, 107.47412082,  92.71880657,  74.49640955,\n",
       "        70.80093793,  95.19070875,  66.05280106,  92.51373874,\n",
       "       102.02313906,  85.56005751,  67.57143841, 125.96014229,\n",
       "       104.53531959,  98.58395177,  89.31519946,  88.25388882,\n",
       "        94.75075084, 104.40679668, 100.01727905,  99.89804424,\n",
       "       107.54719295,  90.02065566,  82.4395914 , 106.33410785])"
      ]
     },
     "execution_count": 46,
     "metadata": {},
     "output_type": "execute_result"
    }
   ],
   "source": [
    "samples_1"
   ]
  },
  {
   "cell_type": "code",
   "execution_count": 40,
   "id": "8e8c5dee",
   "metadata": {},
   "outputs": [
    {
     "data": {
      "text/plain": [
       "89.64792886977986"
      ]
     },
     "execution_count": 40,
     "metadata": {},
     "output_type": "execute_result"
    }
   ],
   "source": [
    "mean_a = samples_1.mean()"
   ]
  },
  {
   "cell_type": "code",
   "execution_count": 42,
   "id": "5b64a0a2",
   "metadata": {},
   "outputs": [
    {
     "data": {
      "text/plain": [
       "98.8762476751998"
      ]
     },
     "execution_count": 42,
     "metadata": {},
     "output_type": "execute_result"
    }
   ],
   "source": [
    "mean_b = samples_2.mean()"
   ]
  },
  {
   "cell_type": "code",
   "execution_count": 44,
   "id": "460aa559",
   "metadata": {},
   "outputs": [
    {
     "data": {
      "text/plain": [
       "(2.5079974756696437, 0.1168571918778397)"
      ]
     },
     "execution_count": 44,
     "metadata": {},
     "output_type": "execute_result"
    }
   ],
   "source": [
    "stat, pval = stats.levene(samples_1, samples_2)\n",
    "stat, pval"
   ]
  },
  {
   "cell_type": "code",
   "execution_count": 47,
   "id": "fd7a1491",
   "metadata": {},
   "outputs": [
    {
     "data": {
      "text/plain": [
       "(-2.359034653312221, 0.020535978972365594)"
      ]
     },
     "execution_count": 47,
     "metadata": {},
     "output_type": "execute_result"
    }
   ],
   "source": [
    "t, p = stats.ttest_ind(samples_1, samples_2, equal_var=True)\n",
    "t, p"
   ]
  },
  {
   "cell_type": "code",
   "execution_count": 219,
   "id": "6965c73d",
   "metadata": {},
   "outputs": [
    {
     "name": "stdout",
     "output_type": "stream",
     "text": [
      "reject the null hypothesis\n"
     ]
    }
   ],
   "source": [
    "if p < a:\n",
    "    print('reject the null hypothesis')\n",
    "else:\n",
    "    print('we fail to reject the null hypothesis')"
   ]
  },
  {
   "cell_type": "code",
   "execution_count": 200,
   "id": "fb776571",
   "metadata": {},
   "outputs": [
    {
     "data": {
      "text/plain": [
       "<matplotlib.legend.Legend at 0x165efd7c0>"
      ]
     },
     "execution_count": 200,
     "metadata": {},
     "output_type": "execute_result"
    },
    {
     "data": {
      "image/png": "[encoded data removed]",
      "text/plain": [
       "<Figure size 900x600 with 1 Axes>"
      ]
     },
     "metadata": {},
     "output_type": "display_data"
    }
   ],
   "source": [
    "x = np.arange(50, 150)\n",
    "\n",
    "y1 = stats.norm(90, 15).pdf(x)\n",
    "y2 = stats.norm(100, 20).pdf(x)\n",
    "\n",
    "plt.figure(figsize=(9,6))\n",
    "plt.plot(x, y1, label = 'office1')\n",
    "plt.plot(x, y2, label = 'office2')\n",
    "plt.legend()"
   ]
  },
  {
   "cell_type": "markdown",
   "id": "a43a522d",
   "metadata": {},
   "source": [
    "t-test from stats - 9 times out of 10 we won't use this below"
   ]
  },
  {
   "cell_type": "code",
   "execution_count": 220,
   "id": "793888c9",
   "metadata": {},
   "outputs": [
    {
     "data": {
      "text/plain": [
       "Ttest_indResult(statistic=-2.7091418459143854, pvalue=0.00811206270346016)"
      ]
     },
     "execution_count": 220,
     "metadata": {},
     "output_type": "execute_result"
    }
   ],
   "source": [
    "stats.ttest_ind_from_stats(90, 15, 40, 100, 20, 50, equal_var=False)"
   ]
  },
  {
   "cell_type": "markdown",
   "id": "1e09463f",
   "metadata": {},
   "source": [
    "### 3. Load the mpg dataset and use it to answer the following questions:"
   ]
  },
  {
   "cell_type": "code",
   "execution_count": 48,
   "id": "d4711d20",
   "metadata": {},
   "outputs": [],
   "source": [
    "# mpg = sns.load_dataset('mpg')"
   ]
  },
  {
   "cell_type": "code",
   "execution_count": 63,
   "id": "4fcabb06",
   "metadata": {},
   "outputs": [],
   "source": [
    "from pydataset import data\n",
    "mpg = data('mpg')"
   ]
  },
  {
   "cell_type": "code",
   "execution_count": 67,
   "id": "3288b4c0",
   "metadata": {},
   "outputs": [
    {
     "data": {
      "text/html": [
       "<div>\n",
       "<style scoped>\n",
       "    .dataframe tbody tr th:only-of-type {\n",
       "        vertical-align: middle;\n",
       "    }\n",
       "\n",
       "    .dataframe tbody tr th {\n",
       "        vertical-align: top;\n",
       "    }\n",
       "\n",
       "    .dataframe thead th {\n",
       "        text-align: right;\n",
       "    }\n",
       "</style>\n",
       "<table border=\"1\" class=\"dataframe\">\n",
       "  <thead>\n",
       "    <tr style=\"text-align: right;\">\n",
       "      <th></th>\n",
       "      <th>manufacturer</th>\n",
       "      <th>model</th>\n",
       "      <th>displ</th>\n",
       "      <th>year</th>\n",
       "      <th>cyl</th>\n",
       "      <th>trans</th>\n",
       "      <th>drv</th>\n",
       "      <th>cty</th>\n",
       "      <th>hwy</th>\n",
       "      <th>fl</th>\n",
       "      <th>class</th>\n",
       "    </tr>\n",
       "  </thead>\n",
       "  <tbody>\n",
       "    <tr>\n",
       "      <th>1</th>\n",
       "      <td>audi</td>\n",
       "      <td>a4</td>\n",
       "      <td>1.8</td>\n",
       "      <td>1999</td>\n",
       "      <td>4</td>\n",
       "      <td>auto(l5)</td>\n",
       "      <td>f</td>\n",
       "      <td>18</td>\n",
       "      <td>29</td>\n",
       "      <td>p</td>\n",
       "      <td>compact</td>\n",
       "    </tr>\n",
       "    <tr>\n",
       "      <th>2</th>\n",
       "      <td>audi</td>\n",
       "      <td>a4</td>\n",
       "      <td>1.8</td>\n",
       "      <td>1999</td>\n",
       "      <td>4</td>\n",
       "      <td>manual(m5)</td>\n",
       "      <td>f</td>\n",
       "      <td>21</td>\n",
       "      <td>29</td>\n",
       "      <td>p</td>\n",
       "      <td>compact</td>\n",
       "    </tr>\n",
       "    <tr>\n",
       "      <th>3</th>\n",
       "      <td>audi</td>\n",
       "      <td>a4</td>\n",
       "      <td>2.0</td>\n",
       "      <td>2008</td>\n",
       "      <td>4</td>\n",
       "      <td>manual(m6)</td>\n",
       "      <td>f</td>\n",
       "      <td>20</td>\n",
       "      <td>31</td>\n",
       "      <td>p</td>\n",
       "      <td>compact</td>\n",
       "    </tr>\n",
       "    <tr>\n",
       "      <th>4</th>\n",
       "      <td>audi</td>\n",
       "      <td>a4</td>\n",
       "      <td>2.0</td>\n",
       "      <td>2008</td>\n",
       "      <td>4</td>\n",
       "      <td>auto(av)</td>\n",
       "      <td>f</td>\n",
       "      <td>21</td>\n",
       "      <td>30</td>\n",
       "      <td>p</td>\n",
       "      <td>compact</td>\n",
       "    </tr>\n",
       "    <tr>\n",
       "      <th>5</th>\n",
       "      <td>audi</td>\n",
       "      <td>a4</td>\n",
       "      <td>2.8</td>\n",
       "      <td>1999</td>\n",
       "      <td>6</td>\n",
       "      <td>auto(l5)</td>\n",
       "      <td>f</td>\n",
       "      <td>16</td>\n",
       "      <td>26</td>\n",
       "      <td>p</td>\n",
       "      <td>compact</td>\n",
       "    </tr>\n",
       "  </tbody>\n",
       "</table>\n",
       "</div>"
      ],
      "text/plain": [
       "  manufacturer model  displ  year  cyl       trans drv  cty  hwy fl    class\n",
       "1         audi    a4    1.8  1999    4    auto(l5)   f   18   29  p  compact\n",
       "2         audi    a4    1.8  1999    4  manual(m5)   f   21   29  p  compact\n",
       "3         audi    a4    2.0  2008    4  manual(m6)   f   20   31  p  compact\n",
       "4         audi    a4    2.0  2008    4    auto(av)   f   21   30  p  compact\n",
       "5         audi    a4    2.8  1999    6    auto(l5)   f   16   26  p  compact"
      ]
     },
     "execution_count": 67,
     "metadata": {},
     "output_type": "execute_result"
    }
   ],
   "source": [
    "mpg.head()"
   ]
  },
  {
   "cell_type": "markdown",
   "id": "97931280",
   "metadata": {},
   "source": [
    "#### Is there a difference in fuel-efficiency in cars from 2008 vs 1999?\n",
    "\n",
    "$H{0}$ : There is no difference in fuel-efficiency in cars from 2008 vs 1999\n",
    "\n",
    "$H{a}$ : There is a difference in fuel-efficiency in cars from 2008 vs 1999"
   ]
  },
  {
   "cell_type": "code",
   "execution_count": 77,
   "id": "52af2a33",
   "metadata": {},
   "outputs": [
    {
     "data": {
      "text/html": [
       "<div>\n",
       "<style scoped>\n",
       "    .dataframe tbody tr th:only-of-type {\n",
       "        vertical-align: middle;\n",
       "    }\n",
       "\n",
       "    .dataframe tbody tr th {\n",
       "        vertical-align: top;\n",
       "    }\n",
       "\n",
       "    .dataframe thead th {\n",
       "        text-align: right;\n",
       "    }\n",
       "</style>\n",
       "<table border=\"1\" class=\"dataframe\">\n",
       "  <thead>\n",
       "    <tr style=\"text-align: right;\">\n",
       "      <th></th>\n",
       "      <th>manufacturer</th>\n",
       "      <th>model</th>\n",
       "      <th>displ</th>\n",
       "      <th>year</th>\n",
       "      <th>cyl</th>\n",
       "      <th>trans</th>\n",
       "      <th>drv</th>\n",
       "      <th>cty</th>\n",
       "      <th>hwy</th>\n",
       "      <th>fl</th>\n",
       "      <th>class</th>\n",
       "      <th>avg_mpg</th>\n",
       "    </tr>\n",
       "  </thead>\n",
       "  <tbody>\n",
       "    <tr>\n",
       "      <th>1</th>\n",
       "      <td>audi</td>\n",
       "      <td>a4</td>\n",
       "      <td>1.8</td>\n",
       "      <td>1999</td>\n",
       "      <td>4</td>\n",
       "      <td>auto(l5)</td>\n",
       "      <td>f</td>\n",
       "      <td>18</td>\n",
       "      <td>29</td>\n",
       "      <td>p</td>\n",
       "      <td>compact</td>\n",
       "      <td>23.5</td>\n",
       "    </tr>\n",
       "    <tr>\n",
       "      <th>2</th>\n",
       "      <td>audi</td>\n",
       "      <td>a4</td>\n",
       "      <td>1.8</td>\n",
       "      <td>1999</td>\n",
       "      <td>4</td>\n",
       "      <td>manual(m5)</td>\n",
       "      <td>f</td>\n",
       "      <td>21</td>\n",
       "      <td>29</td>\n",
       "      <td>p</td>\n",
       "      <td>compact</td>\n",
       "      <td>25.0</td>\n",
       "    </tr>\n",
       "    <tr>\n",
       "      <th>3</th>\n",
       "      <td>audi</td>\n",
       "      <td>a4</td>\n",
       "      <td>2.0</td>\n",
       "      <td>2008</td>\n",
       "      <td>4</td>\n",
       "      <td>manual(m6)</td>\n",
       "      <td>f</td>\n",
       "      <td>20</td>\n",
       "      <td>31</td>\n",
       "      <td>p</td>\n",
       "      <td>compact</td>\n",
       "      <td>25.5</td>\n",
       "    </tr>\n",
       "    <tr>\n",
       "      <th>4</th>\n",
       "      <td>audi</td>\n",
       "      <td>a4</td>\n",
       "      <td>2.0</td>\n",
       "      <td>2008</td>\n",
       "      <td>4</td>\n",
       "      <td>auto(av)</td>\n",
       "      <td>f</td>\n",
       "      <td>21</td>\n",
       "      <td>30</td>\n",
       "      <td>p</td>\n",
       "      <td>compact</td>\n",
       "      <td>25.5</td>\n",
       "    </tr>\n",
       "    <tr>\n",
       "      <th>5</th>\n",
       "      <td>audi</td>\n",
       "      <td>a4</td>\n",
       "      <td>2.8</td>\n",
       "      <td>1999</td>\n",
       "      <td>6</td>\n",
       "      <td>auto(l5)</td>\n",
       "      <td>f</td>\n",
       "      <td>16</td>\n",
       "      <td>26</td>\n",
       "      <td>p</td>\n",
       "      <td>compact</td>\n",
       "      <td>21.0</td>\n",
       "    </tr>\n",
       "  </tbody>\n",
       "</table>\n",
       "</div>"
      ],
      "text/plain": [
       "  manufacturer model  displ  year  cyl       trans drv  cty  hwy fl    class  \\\n",
       "1         audi    a4    1.8  1999    4    auto(l5)   f   18   29  p  compact   \n",
       "2         audi    a4    1.8  1999    4  manual(m5)   f   21   29  p  compact   \n",
       "3         audi    a4    2.0  2008    4  manual(m6)   f   20   31  p  compact   \n",
       "4         audi    a4    2.0  2008    4    auto(av)   f   21   30  p  compact   \n",
       "5         audi    a4    2.8  1999    6    auto(l5)   f   16   26  p  compact   \n",
       "\n",
       "   avg_mpg  \n",
       "1     23.5  \n",
       "2     25.0  \n",
       "3     25.5  \n",
       "4     25.5  \n",
       "5     21.0  "
      ]
     },
     "execution_count": 77,
     "metadata": {},
     "output_type": "execute_result"
    }
   ],
   "source": [
    "mpg['avg_mpg'] = (mpg.cty + mpg.hwy)/2\n",
    "mpg.head()"
   ]
  },
  {
   "cell_type": "code",
   "execution_count": 93,
   "id": "4ac26b5f",
   "metadata": {},
   "outputs": [
    {
     "data": {
      "text/plain": [
       "year\n",
       "1999    20.222222\n",
       "2008    20.076923\n",
       "Name: avg_mpg, dtype: float64"
      ]
     },
     "execution_count": 93,
     "metadata": {},
     "output_type": "execute_result"
    }
   ],
   "source": [
    "mpg.groupby('year').avg_mpg.mean()"
   ]
  },
  {
   "cell_type": "code",
   "execution_count": 125,
   "id": "5ceae86a",
   "metadata": {},
   "outputs": [
    {
     "data": {
      "text/plain": [
       "20.22222222222222"
      ]
     },
     "execution_count": 125,
     "metadata": {},
     "output_type": "execute_result"
    }
   ],
   "source": [
    "avg_mpg_99 = mpg[mpg['year'] == 1999].avg_mpg.mean()\n",
    "avg_mpg_99"
   ]
  },
  {
   "cell_type": "code",
   "execution_count": 126,
   "id": "edc27416",
   "metadata": {},
   "outputs": [
    {
     "data": {
      "text/plain": [
       "20.076923076923077"
      ]
     },
     "execution_count": 126,
     "metadata": {},
     "output_type": "execute_result"
    }
   ],
   "source": [
    "avg_mpg_08 = mpg[mpg['year'] == 2008].avg_mpg.mean()\n",
    "avg_mpg_08"
   ]
  },
  {
   "cell_type": "code",
   "execution_count": 127,
   "id": "3ae3c6c0",
   "metadata": {},
   "outputs": [
    {
     "data": {
      "text/plain": [
       "27.122605363984682"
      ]
     },
     "execution_count": 127,
     "metadata": {},
     "output_type": "execute_result"
    }
   ],
   "source": [
    "mpg[mpg['year'] == 1999].avg_mpg.var()"
   ]
  },
  {
   "cell_type": "code",
   "execution_count": 128,
   "id": "8365dd92",
   "metadata": {
    "scrolled": true
   },
   "outputs": [
    {
     "data": {
      "text/plain": [
       "24.097480106100797"
      ]
     },
     "execution_count": 128,
     "metadata": {},
     "output_type": "execute_result"
    }
   ],
   "source": [
    "mpg[mpg['year'] == 2008].avg_mpg.var()"
   ]
  },
  {
   "cell_type": "code",
   "execution_count": 132,
   "id": "8be1dedf",
   "metadata": {},
   "outputs": [],
   "source": [
    "mpg_99 = mpg[mpg['year'] == 1999].avg_mpg"
   ]
  },
  {
   "cell_type": "code",
   "execution_count": 133,
   "id": "b8a98e42",
   "metadata": {},
   "outputs": [],
   "source": [
    "mpg_08 = mpg[mpg['year'] == 2008].avg_mpg"
   ]
  },
  {
   "cell_type": "code",
   "execution_count": 135,
   "id": "67289cbf",
   "metadata": {},
   "outputs": [
    {
     "data": {
      "text/plain": [
       "(0.033228136671080453, 0.855517569468803)"
      ]
     },
     "execution_count": 135,
     "metadata": {},
     "output_type": "execute_result"
    }
   ],
   "source": [
    "stat, pval = stats.levene(mpg_99, mpg_08)\n",
    "stat, pval"
   ]
  },
  {
   "cell_type": "code",
   "execution_count": 223,
   "id": "10655490",
   "metadata": {},
   "outputs": [
    {
     "data": {
      "text/plain": [
       "(0.21960177245940962, 0.8263750772060638)"
      ]
     },
     "execution_count": 223,
     "metadata": {},
     "output_type": "execute_result"
    }
   ],
   "source": [
    "t, p = stats.ttest_ind(mpg_99, mpg_08, equal_var=False)\n",
    "t, p"
   ]
  },
  {
   "cell_type": "markdown",
   "id": "7b1d6fda",
   "metadata": {},
   "source": [
    "We cannot reject $H{0}$"
   ]
  },
  {
   "cell_type": "code",
   "execution_count": 224,
   "id": "efcccfd2",
   "metadata": {},
   "outputs": [
    {
     "name": "stdout",
     "output_type": "stream",
     "text": [
      "we fail to reject the null hypothesis\n"
     ]
    }
   ],
   "source": [
    "if p < a:\n",
    "    print('we reject the null hypothesis')\n",
    "else:\n",
    "    print('we fail to reject the null hypothesis')"
   ]
  },
  {
   "cell_type": "code",
   "execution_count": 221,
   "id": "f9a5af1c",
   "metadata": {},
   "outputs": [
    {
     "data": {
      "text/plain": [
       "<AxesSubplot:>"
      ]
     },
     "execution_count": 221,
     "metadata": {},
     "output_type": "execute_result"
    },
    {
     "data": {
      "image/png": "[encoded data removed]",
      "text/plain": [
       "<Figure size 900x600 with 1 Axes>"
      ]
     },
     "metadata": {},
     "output_type": "display_data"
    }
   ],
   "source": [
    "plt.figure(figsize=(9,6))\n",
    "mpg_08.hist()"
   ]
  },
  {
   "cell_type": "code",
   "execution_count": 222,
   "id": "09812f3c",
   "metadata": {},
   "outputs": [
    {
     "data": {
      "text/plain": [
       "<AxesSubplot:>"
      ]
     },
     "execution_count": 222,
     "metadata": {},
     "output_type": "execute_result"
    },
    {
     "data": {
      "image/png": "[encoded data removed]",
      "text/plain": [
       "<Figure size 900x600 with 1 Axes>"
      ]
     },
     "metadata": {},
     "output_type": "display_data"
    }
   ],
   "source": [
    "plt.figure(figsize=(9,6))\n",
    "mpg_99.hist()"
   ]
  },
  {
   "cell_type": "code",
   "execution_count": null,
   "id": "2c542425",
   "metadata": {},
   "outputs": [],
   "source": []
  },
  {
   "cell_type": "markdown",
   "id": "8008c093",
   "metadata": {},
   "source": [
    "#### Are compact cars more fuel-efficient than the average car?\n",
    "\n",
    "$H{0}$ : There is no difference in fuel-efficiency in compact cars vs the average car.\n",
    "\n",
    "$H{a}$ : Compact cars are more fuel-efficient than the average car."
   ]
  },
  {
   "cell_type": "code",
   "execution_count": 143,
   "id": "82f0a201",
   "metadata": {},
   "outputs": [
    {
     "data": {
      "text/plain": [
       "array(['compact', 'midsize', 'suv', '2seater', 'minivan', 'pickup',\n",
       "       'subcompact'], dtype=object)"
      ]
     },
     "execution_count": 143,
     "metadata": {},
     "output_type": "execute_result"
    }
   ],
   "source": [
    "mpg['class'].unique()"
   ]
  },
  {
   "cell_type": "code",
   "execution_count": 152,
   "id": "b795020a",
   "metadata": {},
   "outputs": [
    {
     "data": {
      "text/html": [
       "<div>\n",
       "<style scoped>\n",
       "    .dataframe tbody tr th:only-of-type {\n",
       "        vertical-align: middle;\n",
       "    }\n",
       "\n",
       "    .dataframe tbody tr th {\n",
       "        vertical-align: top;\n",
       "    }\n",
       "\n",
       "    .dataframe thead th {\n",
       "        text-align: right;\n",
       "    }\n",
       "</style>\n",
       "<table border=\"1\" class=\"dataframe\">\n",
       "  <thead>\n",
       "    <tr style=\"text-align: right;\">\n",
       "      <th></th>\n",
       "      <th>manufacturer</th>\n",
       "      <th>model</th>\n",
       "      <th>displ</th>\n",
       "      <th>year</th>\n",
       "      <th>cyl</th>\n",
       "      <th>trans</th>\n",
       "      <th>drv</th>\n",
       "      <th>cty</th>\n",
       "      <th>hwy</th>\n",
       "      <th>fl</th>\n",
       "      <th>class</th>\n",
       "      <th>avg_mpg</th>\n",
       "    </tr>\n",
       "  </thead>\n",
       "  <tbody>\n",
       "    <tr>\n",
       "      <th>1</th>\n",
       "      <td>audi</td>\n",
       "      <td>a4</td>\n",
       "      <td>1.8</td>\n",
       "      <td>1999</td>\n",
       "      <td>4</td>\n",
       "      <td>auto(l5)</td>\n",
       "      <td>f</td>\n",
       "      <td>18</td>\n",
       "      <td>29</td>\n",
       "      <td>p</td>\n",
       "      <td>compact</td>\n",
       "      <td>23.5</td>\n",
       "    </tr>\n",
       "    <tr>\n",
       "      <th>2</th>\n",
       "      <td>audi</td>\n",
       "      <td>a4</td>\n",
       "      <td>1.8</td>\n",
       "      <td>1999</td>\n",
       "      <td>4</td>\n",
       "      <td>manual(m5)</td>\n",
       "      <td>f</td>\n",
       "      <td>21</td>\n",
       "      <td>29</td>\n",
       "      <td>p</td>\n",
       "      <td>compact</td>\n",
       "      <td>25.0</td>\n",
       "    </tr>\n",
       "    <tr>\n",
       "      <th>3</th>\n",
       "      <td>audi</td>\n",
       "      <td>a4</td>\n",
       "      <td>2.0</td>\n",
       "      <td>2008</td>\n",
       "      <td>4</td>\n",
       "      <td>manual(m6)</td>\n",
       "      <td>f</td>\n",
       "      <td>20</td>\n",
       "      <td>31</td>\n",
       "      <td>p</td>\n",
       "      <td>compact</td>\n",
       "      <td>25.5</td>\n",
       "    </tr>\n",
       "    <tr>\n",
       "      <th>4</th>\n",
       "      <td>audi</td>\n",
       "      <td>a4</td>\n",
       "      <td>2.0</td>\n",
       "      <td>2008</td>\n",
       "      <td>4</td>\n",
       "      <td>auto(av)</td>\n",
       "      <td>f</td>\n",
       "      <td>21</td>\n",
       "      <td>30</td>\n",
       "      <td>p</td>\n",
       "      <td>compact</td>\n",
       "      <td>25.5</td>\n",
       "    </tr>\n",
       "    <tr>\n",
       "      <th>5</th>\n",
       "      <td>audi</td>\n",
       "      <td>a4</td>\n",
       "      <td>2.8</td>\n",
       "      <td>1999</td>\n",
       "      <td>6</td>\n",
       "      <td>auto(l5)</td>\n",
       "      <td>f</td>\n",
       "      <td>16</td>\n",
       "      <td>26</td>\n",
       "      <td>p</td>\n",
       "      <td>compact</td>\n",
       "      <td>21.0</td>\n",
       "    </tr>\n",
       "  </tbody>\n",
       "</table>\n",
       "</div>"
      ],
      "text/plain": [
       "  manufacturer model  displ  year  cyl       trans drv  cty  hwy fl    class  \\\n",
       "1         audi    a4    1.8  1999    4    auto(l5)   f   18   29  p  compact   \n",
       "2         audi    a4    1.8  1999    4  manual(m5)   f   21   29  p  compact   \n",
       "3         audi    a4    2.0  2008    4  manual(m6)   f   20   31  p  compact   \n",
       "4         audi    a4    2.0  2008    4    auto(av)   f   21   30  p  compact   \n",
       "5         audi    a4    2.8  1999    6    auto(l5)   f   16   26  p  compact   \n",
       "\n",
       "   avg_mpg  \n",
       "1     23.5  \n",
       "2     25.0  \n",
       "3     25.5  \n",
       "4     25.5  \n",
       "5     21.0  "
      ]
     },
     "execution_count": 152,
     "metadata": {},
     "output_type": "execute_result"
    }
   ],
   "source": [
    "mpg[mpg['class']=='compact'].head()"
   ]
  },
  {
   "cell_type": "code",
   "execution_count": 153,
   "id": "b53f3fb5",
   "metadata": {},
   "outputs": [
    {
     "data": {
      "text/plain": [
       "24.21276595744681"
      ]
     },
     "execution_count": 153,
     "metadata": {},
     "output_type": "execute_result"
    }
   ],
   "source": [
    "mpg[mpg['class']=='compact']['avg_mpg'].mean()"
   ]
  },
  {
   "cell_type": "code",
   "execution_count": 156,
   "id": "ad654081",
   "metadata": {},
   "outputs": [
    {
     "data": {
      "text/plain": [
       "20.14957264957265"
      ]
     },
     "execution_count": 156,
     "metadata": {},
     "output_type": "execute_result"
    }
   ],
   "source": [
    "mpg.avg_mpg.mean()"
   ]
  },
  {
   "cell_type": "code",
   "execution_count": 161,
   "id": "e34d7a6e",
   "metadata": {},
   "outputs": [],
   "source": [
    "avg_com_mpg = mpg[mpg['class']=='compact']['avg_mpg']"
   ]
  },
  {
   "cell_type": "code",
   "execution_count": 162,
   "id": "b2f3edd2",
   "metadata": {},
   "outputs": [],
   "source": [
    "avg_car_mpg = mpg.avg_mpg"
   ]
  },
  {
   "cell_type": "code",
   "execution_count": 163,
   "id": "b380d05a",
   "metadata": {},
   "outputs": [
    {
     "data": {
      "text/plain": [
       "(11.96025508756341, 0.0006283349942996054)"
      ]
     },
     "execution_count": 163,
     "metadata": {},
     "output_type": "execute_result"
    }
   ],
   "source": [
    "stat, pval = stats.levene(avg_com_mpg, avg_car_mpg)\n",
    "stat, pval"
   ]
  },
  {
   "cell_type": "code",
   "execution_count": 226,
   "id": "8425cf8d",
   "metadata": {},
   "outputs": [
    {
     "data": {
      "text/plain": [
       "(7.896888573132533, 2.0992818971585743e-10)"
      ]
     },
     "execution_count": 226,
     "metadata": {},
     "output_type": "execute_result"
    }
   ],
   "source": [
    "t, p = stats.ttest_1samp(avg_com_mpg, mpg.avg_mpg.mean())\n",
    "t, p/2"
   ]
  },
  {
   "cell_type": "markdown",
   "id": "a33e269a",
   "metadata": {},
   "source": [
    "We can reject $H{0}$"
   ]
  },
  {
   "cell_type": "code",
   "execution_count": 225,
   "id": "dfba59da",
   "metadata": {
    "scrolled": false
   },
   "outputs": [
    {
     "data": {
      "text/plain": [
       "<AxesSubplot:>"
      ]
     },
     "execution_count": 225,
     "metadata": {},
     "output_type": "execute_result"
    },
    {
     "data": {
      "image/png": "[encoded data removed]",
      "text/plain": [
       "<Figure size 900x600 with 1 Axes>"
      ]
     },
     "metadata": {},
     "output_type": "display_data"
    }
   ],
   "source": [
    "plt.figure(figsize=(9,6))\n",
    "avg_com_mpg.hist()"
   ]
  },
  {
   "cell_type": "code",
   "execution_count": 227,
   "id": "270da2a4",
   "metadata": {},
   "outputs": [
    {
     "name": "stdout",
     "output_type": "stream",
     "text": [
      "we reject the null hypothesis\n"
     ]
    }
   ],
   "source": [
    "if ((p/2) < a) and (t > 0):\n",
    "    print('we reject the null hypothesis')\n",
    "else:\n",
    "    print('we fail to reject the null hypothesis')"
   ]
  },
  {
   "cell_type": "markdown",
   "id": "cabc5151",
   "metadata": {},
   "source": [
    "#### Do manual cars get better gas mileage than automatic cars?\n",
    "\n",
    "$H{0}$ : There is no difference in fuel-efficiency in automatic vs manual cars.\n",
    "\n",
    "$H{a}$ : There is a difference in fuel-efficiency in automatic vs manual cars."
   ]
  },
  {
   "cell_type": "code",
   "execution_count": 169,
   "id": "44907e05",
   "metadata": {},
   "outputs": [
    {
     "data": {
      "text/html": [
       "<div>\n",
       "<style scoped>\n",
       "    .dataframe tbody tr th:only-of-type {\n",
       "        vertical-align: middle;\n",
       "    }\n",
       "\n",
       "    .dataframe tbody tr th {\n",
       "        vertical-align: top;\n",
       "    }\n",
       "\n",
       "    .dataframe thead th {\n",
       "        text-align: right;\n",
       "    }\n",
       "</style>\n",
       "<table border=\"1\" class=\"dataframe\">\n",
       "  <thead>\n",
       "    <tr style=\"text-align: right;\">\n",
       "      <th></th>\n",
       "      <th>manufacturer</th>\n",
       "      <th>model</th>\n",
       "      <th>displ</th>\n",
       "      <th>year</th>\n",
       "      <th>cyl</th>\n",
       "      <th>trans</th>\n",
       "      <th>drv</th>\n",
       "      <th>cty</th>\n",
       "      <th>hwy</th>\n",
       "      <th>fl</th>\n",
       "      <th>class</th>\n",
       "      <th>avg_mpg</th>\n",
       "      <th>is_automatic</th>\n",
       "    </tr>\n",
       "  </thead>\n",
       "  <tbody>\n",
       "    <tr>\n",
       "      <th>1</th>\n",
       "      <td>audi</td>\n",
       "      <td>a4</td>\n",
       "      <td>1.8</td>\n",
       "      <td>1999</td>\n",
       "      <td>4</td>\n",
       "      <td>auto(l5)</td>\n",
       "      <td>f</td>\n",
       "      <td>18</td>\n",
       "      <td>29</td>\n",
       "      <td>p</td>\n",
       "      <td>compact</td>\n",
       "      <td>23.5</td>\n",
       "      <td>True</td>\n",
       "    </tr>\n",
       "    <tr>\n",
       "      <th>2</th>\n",
       "      <td>audi</td>\n",
       "      <td>a4</td>\n",
       "      <td>1.8</td>\n",
       "      <td>1999</td>\n",
       "      <td>4</td>\n",
       "      <td>manual(m5)</td>\n",
       "      <td>f</td>\n",
       "      <td>21</td>\n",
       "      <td>29</td>\n",
       "      <td>p</td>\n",
       "      <td>compact</td>\n",
       "      <td>25.0</td>\n",
       "      <td>False</td>\n",
       "    </tr>\n",
       "    <tr>\n",
       "      <th>3</th>\n",
       "      <td>audi</td>\n",
       "      <td>a4</td>\n",
       "      <td>2.0</td>\n",
       "      <td>2008</td>\n",
       "      <td>4</td>\n",
       "      <td>manual(m6)</td>\n",
       "      <td>f</td>\n",
       "      <td>20</td>\n",
       "      <td>31</td>\n",
       "      <td>p</td>\n",
       "      <td>compact</td>\n",
       "      <td>25.5</td>\n",
       "      <td>False</td>\n",
       "    </tr>\n",
       "    <tr>\n",
       "      <th>4</th>\n",
       "      <td>audi</td>\n",
       "      <td>a4</td>\n",
       "      <td>2.0</td>\n",
       "      <td>2008</td>\n",
       "      <td>4</td>\n",
       "      <td>auto(av)</td>\n",
       "      <td>f</td>\n",
       "      <td>21</td>\n",
       "      <td>30</td>\n",
       "      <td>p</td>\n",
       "      <td>compact</td>\n",
       "      <td>25.5</td>\n",
       "      <td>True</td>\n",
       "    </tr>\n",
       "    <tr>\n",
       "      <th>5</th>\n",
       "      <td>audi</td>\n",
       "      <td>a4</td>\n",
       "      <td>2.8</td>\n",
       "      <td>1999</td>\n",
       "      <td>6</td>\n",
       "      <td>auto(l5)</td>\n",
       "      <td>f</td>\n",
       "      <td>16</td>\n",
       "      <td>26</td>\n",
       "      <td>p</td>\n",
       "      <td>compact</td>\n",
       "      <td>21.0</td>\n",
       "      <td>True</td>\n",
       "    </tr>\n",
       "    <tr>\n",
       "      <th>...</th>\n",
       "      <td>...</td>\n",
       "      <td>...</td>\n",
       "      <td>...</td>\n",
       "      <td>...</td>\n",
       "      <td>...</td>\n",
       "      <td>...</td>\n",
       "      <td>...</td>\n",
       "      <td>...</td>\n",
       "      <td>...</td>\n",
       "      <td>...</td>\n",
       "      <td>...</td>\n",
       "      <td>...</td>\n",
       "      <td>...</td>\n",
       "    </tr>\n",
       "    <tr>\n",
       "      <th>230</th>\n",
       "      <td>volkswagen</td>\n",
       "      <td>passat</td>\n",
       "      <td>2.0</td>\n",
       "      <td>2008</td>\n",
       "      <td>4</td>\n",
       "      <td>auto(s6)</td>\n",
       "      <td>f</td>\n",
       "      <td>19</td>\n",
       "      <td>28</td>\n",
       "      <td>p</td>\n",
       "      <td>midsize</td>\n",
       "      <td>23.5</td>\n",
       "      <td>True</td>\n",
       "    </tr>\n",
       "    <tr>\n",
       "      <th>231</th>\n",
       "      <td>volkswagen</td>\n",
       "      <td>passat</td>\n",
       "      <td>2.0</td>\n",
       "      <td>2008</td>\n",
       "      <td>4</td>\n",
       "      <td>manual(m6)</td>\n",
       "      <td>f</td>\n",
       "      <td>21</td>\n",
       "      <td>29</td>\n",
       "      <td>p</td>\n",
       "      <td>midsize</td>\n",
       "      <td>25.0</td>\n",
       "      <td>False</td>\n",
       "    </tr>\n",
       "    <tr>\n",
       "      <th>232</th>\n",
       "      <td>volkswagen</td>\n",
       "      <td>passat</td>\n",
       "      <td>2.8</td>\n",
       "      <td>1999</td>\n",
       "      <td>6</td>\n",
       "      <td>auto(l5)</td>\n",
       "      <td>f</td>\n",
       "      <td>16</td>\n",
       "      <td>26</td>\n",
       "      <td>p</td>\n",
       "      <td>midsize</td>\n",
       "      <td>21.0</td>\n",
       "      <td>True</td>\n",
       "    </tr>\n",
       "    <tr>\n",
       "      <th>233</th>\n",
       "      <td>volkswagen</td>\n",
       "      <td>passat</td>\n",
       "      <td>2.8</td>\n",
       "      <td>1999</td>\n",
       "      <td>6</td>\n",
       "      <td>manual(m5)</td>\n",
       "      <td>f</td>\n",
       "      <td>18</td>\n",
       "      <td>26</td>\n",
       "      <td>p</td>\n",
       "      <td>midsize</td>\n",
       "      <td>22.0</td>\n",
       "      <td>False</td>\n",
       "    </tr>\n",
       "    <tr>\n",
       "      <th>234</th>\n",
       "      <td>volkswagen</td>\n",
       "      <td>passat</td>\n",
       "      <td>3.6</td>\n",
       "      <td>2008</td>\n",
       "      <td>6</td>\n",
       "      <td>auto(s6)</td>\n",
       "      <td>f</td>\n",
       "      <td>17</td>\n",
       "      <td>26</td>\n",
       "      <td>p</td>\n",
       "      <td>midsize</td>\n",
       "      <td>21.5</td>\n",
       "      <td>True</td>\n",
       "    </tr>\n",
       "  </tbody>\n",
       "</table>\n",
       "<p>234 rows × 13 columns</p>\n",
       "</div>"
      ],
      "text/plain": [
       "    manufacturer   model  displ  year  cyl       trans drv  cty  hwy fl  \\\n",
       "1           audi      a4    1.8  1999    4    auto(l5)   f   18   29  p   \n",
       "2           audi      a4    1.8  1999    4  manual(m5)   f   21   29  p   \n",
       "3           audi      a4    2.0  2008    4  manual(m6)   f   20   31  p   \n",
       "4           audi      a4    2.0  2008    4    auto(av)   f   21   30  p   \n",
       "5           audi      a4    2.8  1999    6    auto(l5)   f   16   26  p   \n",
       "..           ...     ...    ...   ...  ...         ...  ..  ...  ... ..   \n",
       "230   volkswagen  passat    2.0  2008    4    auto(s6)   f   19   28  p   \n",
       "231   volkswagen  passat    2.0  2008    4  manual(m6)   f   21   29  p   \n",
       "232   volkswagen  passat    2.8  1999    6    auto(l5)   f   16   26  p   \n",
       "233   volkswagen  passat    2.8  1999    6  manual(m5)   f   18   26  p   \n",
       "234   volkswagen  passat    3.6  2008    6    auto(s6)   f   17   26  p   \n",
       "\n",
       "       class  avg_mpg  is_automatic  \n",
       "1    compact     23.5          True  \n",
       "2    compact     25.0         False  \n",
       "3    compact     25.5         False  \n",
       "4    compact     25.5          True  \n",
       "5    compact     21.0          True  \n",
       "..       ...      ...           ...  \n",
       "230  midsize     23.5          True  \n",
       "231  midsize     25.0         False  \n",
       "232  midsize     21.0          True  \n",
       "233  midsize     22.0         False  \n",
       "234  midsize     21.5          True  \n",
       "\n",
       "[234 rows x 13 columns]"
      ]
     },
     "execution_count": 169,
     "metadata": {},
     "output_type": "execute_result"
    }
   ],
   "source": [
    "mpg['is_automatic'] = mpg.trans.str.contains('auto')\n",
    "mpg"
   ]
  },
  {
   "cell_type": "code",
   "execution_count": 173,
   "id": "5b11cae3",
   "metadata": {},
   "outputs": [
    {
     "data": {
      "text/plain": [
       "19.130573248407643"
      ]
     },
     "execution_count": 173,
     "metadata": {},
     "output_type": "execute_result"
    }
   ],
   "source": [
    "mpg[mpg['is_automatic']].avg_mpg.mean()"
   ]
  },
  {
   "cell_type": "code",
   "execution_count": 192,
   "id": "be1334ea",
   "metadata": {},
   "outputs": [
    {
     "data": {
      "text/plain": [
       "22.227272727272727"
      ]
     },
     "execution_count": 192,
     "metadata": {},
     "output_type": "execute_result"
    }
   ],
   "source": [
    "mpg[mpg['is_automatic']==0].avg_mpg.mean()"
   ]
  },
  {
   "cell_type": "code",
   "execution_count": 193,
   "id": "e1599845",
   "metadata": {},
   "outputs": [],
   "source": [
    "auto_mpg = mpg[mpg['is_automatic']].avg_mpg"
   ]
  },
  {
   "cell_type": "code",
   "execution_count": 194,
   "id": "5b7d0b23",
   "metadata": {},
   "outputs": [],
   "source": [
    "manual_mpg = mpg[mpg['is_automatic']==0].avg_mpg"
   ]
  },
  {
   "cell_type": "code",
   "execution_count": 195,
   "id": "6ed0a07c",
   "metadata": {},
   "outputs": [
    {
     "data": {
      "text/plain": [
       "(0.20075824847529639, 0.6545276355131857)"
      ]
     },
     "execution_count": 195,
     "metadata": {},
     "output_type": "execute_result"
    }
   ],
   "source": [
    "stat, pval = stats.levene(auto_mpg, manual_mpg)\n",
    "stat, pval"
   ]
  },
  {
   "cell_type": "code",
   "execution_count": 232,
   "id": "cb1f81b5",
   "metadata": {},
   "outputs": [
    {
     "data": {
      "text/plain": [
       "(-4.593437735750014, 3.5771872005728424e-06)"
      ]
     },
     "execution_count": 232,
     "metadata": {},
     "output_type": "execute_result"
    }
   ],
   "source": [
    "t, p = stats.ttest_ind(auto_mpg, manual_mpg, equal_var=True)\n",
    "t, p/2"
   ]
  },
  {
   "cell_type": "markdown",
   "id": "04c0d679",
   "metadata": {},
   "source": [
    "We can reject $H{0}$"
   ]
  },
  {
   "cell_type": "code",
   "execution_count": 233,
   "id": "de6eb2bc",
   "metadata": {},
   "outputs": [
    {
     "name": "stdout",
     "output_type": "stream",
     "text": [
      "we can reject the null hypothesis\n"
     ]
    }
   ],
   "source": [
    "if p < a:\n",
    "    print('we can reject the null hypothesis')\n",
    "else:\n",
    "    print('we fail to reject the null hypothesis')"
   ]
  },
  {
   "cell_type": "code",
   "execution_count": 228,
   "id": "8c63774c",
   "metadata": {},
   "outputs": [
    {
     "data": {
      "text/plain": [
       "<AxesSubplot:>"
      ]
     },
     "execution_count": 228,
     "metadata": {},
     "output_type": "execute_result"
    },
    {
     "data": {
      "image/png": "[encoded data removed]",
      "text/plain": [
       "<Figure size 900x600 with 1 Axes>"
      ]
     },
     "metadata": {},
     "output_type": "display_data"
    }
   ],
   "source": [
    "plt.figure(figsize=(9,6))\n",
    "auto_mpg.hist()"
   ]
  },
  {
   "cell_type": "code",
   "execution_count": 229,
   "id": "2ad0d8cf",
   "metadata": {
    "scrolled": false
   },
   "outputs": [
    {
     "data": {
      "text/plain": [
       "<AxesSubplot:>"
      ]
     },
     "execution_count": 229,
     "metadata": {},
     "output_type": "execute_result"
    },
    {
     "data": {
      "image/png": "[encoded data removed]",
      "text/plain": [
       "<Figure size 900x600 with 1 Axes>"
      ]
     },
     "metadata": {},
     "output_type": "display_data"
    }
   ],
   "source": [
    "plt.figure(figsize=(9,6))\n",
    "manual_mpg.hist()"
   ]
  },
  {
   "cell_type": "code",
   "execution_count": null,
   "id": "c4c8ebb2",
   "metadata": {},
   "outputs": [],
   "source": []
  },
  {
   "cell_type": "code",
   "execution_count": null,
   "id": "31b4f216",
   "metadata": {},
   "outputs": [],
   "source": []
  }
 ],
 "metadata": {
  "kernelspec": {
   "display_name": "Python 3 (ipykernel)",
   "language": "python",
   "name": "python3"
  },
  "language_info": {
   "codemirror_mode": {
    "name": "ipython",
    "version": 3
   },
   "file_extension": ".py",
   "mimetype": "text/x-python",
   "name": "python",
   "nbconvert_exporter": "python",
   "pygments_lexer": "ipython3",
   "version": "3.9.13"
  }
 },
 "nbformat": 4,
 "nbformat_minor": 5
}
