{
 "cells": [
  {
   "cell_type": "markdown",
   "id": "7cd0444c",
   "metadata": {},
   "source": [
    "### For each of the following questions, formulate a null and alternative hypothesis (be as specific as you can be), then give an example of what a true positive, true negative, type I and type II errors would look like. Note that some of the questions are intentionally phrased in a vague way. It is your job to reword these as more precise questions that could be tested."
   ]
  },
  {
   "cell_type": "markdown",
   "id": "82825714",
   "metadata": {},
   "source": [
    "#### - Has the network latency gone up since we switched internet service providers?"
   ]
  },
  {
   "cell_type": "code",
   "execution_count": null,
   "id": "9abc7ab2",
   "metadata": {},
   "outputs": [],
   "source": [
    "H0 - ISP has no effect on internet latency\n",
    "H1 - Network latency has increased after we switched ISP\n",
    "\n",
    "True Positive - Our network latency increased after we switched\n",
    "True Negative - there was no change in network latency between ISPs\n",
    "Type 1 - Our network latency did not increase BUT we rejected the H0\n",
    "Type 2 - Our network latency did increase BUT we accepted H0"
   ]
  },
  {
   "cell_type": "markdown",
   "id": "3654a7bb",
   "metadata": {},
   "source": [
    "#### - Is the website redesign any good?"
   ]
  },
  {
   "cell_type": "code",
   "execution_count": null,
   "id": "da7b71a4",
   "metadata": {},
   "outputs": [],
   "source": [
    "H0 - There was no change in customer engagement after our website redesign\n",
    "H1 - There was an increase in customer engagement after our website redesign\n",
    "\n",
    "True Positive - Customer engagement DID increase after our website redesign\n",
    "True Negative - Customer engagement DID NOT increase after our website redesign\n",
    "Type 1 - Customer engagement DID NOT increase BUT we rejected the H0\n",
    "Type 2 - Customer engagement DID increase BUT we accepted H0"
   ]
  },
  {
   "cell_type": "markdown",
   "id": "1df447b5",
   "metadata": {},
   "source": [
    "#### - Is our television ad driving more sales?"
   ]
  },
  {
   "cell_type": "code",
   "execution_count": null,
   "id": "4491f5c1",
   "metadata": {},
   "outputs": [],
   "source": [
    "H0 - Our television ad had no effect on our sales\n",
    "H1 - Our television ad increased sales\n",
    "\n",
    "True Positive - Sales DID increase after our television ad\n",
    "True Negative - Sales DID NOT increase after our television ad\n",
    "Type 1 - Sales DID NOT increase BUT we rejected the H0\n",
    "Type 2 - Sales DID increase BUT we accepted H0"
   ]
  },
  {
   "cell_type": "code",
   "execution_count": null,
   "id": "12bccf8e",
   "metadata": {},
   "outputs": [],
   "source": []
  },
  {
   "cell_type": "code",
   "execution_count": null,
   "id": "7747f2bd",
   "metadata": {},
   "outputs": [],
   "source": []
  }
 ],
 "metadata": {
  "kernelspec": {
   "display_name": "Python 3 (ipykernel)",
   "language": "python",
   "name": "python3"
  },
  "language_info": {
   "codemirror_mode": {
    "name": "ipython",
    "version": 3
   },
   "file_extension": ".py",
   "mimetype": "text/x-python",
   "name": "python",
   "nbconvert_exporter": "python",
   "pygments_lexer": "ipython3",
   "version": "3.9.13"
  }
 },
 "nbformat": 4,
 "nbformat_minor": 5
}
