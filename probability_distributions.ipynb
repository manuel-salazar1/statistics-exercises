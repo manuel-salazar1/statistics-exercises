{
 "cells": [
  {
   "cell_type": "code",
   "execution_count": 1,
   "id": "66f2e4df",
   "metadata": {},
   "outputs": [],
   "source": [
    "import matplotlib.pyplot as plt\n",
    "import numpy as np\n",
    "from scipy import stats\n",
    "\n",
    "np.random.seed(123)\n"
   ]
  },
  {
   "cell_type": "markdown",
   "id": "7bf4f9ad",
   "metadata": {},
   "source": [
    "For the following problems, use python to simulate the problem and calculate an experimental probability, then compare that to the theoretical probability."
   ]
  },
  {
   "cell_type": "markdown",
   "id": "32414c0e",
   "metadata": {},
   "source": [
    "#### 1. A bank found that the average number of cars waiting during the noon hour at a drive-up window follows a Poisson distribution with a mean of 2 cars. Make a chart of this distribution and answer these questions concerning the probability of cars waiting at the drive-up window."
   ]
  },
  {
   "cell_type": "markdown",
   "id": "572e5b75",
   "metadata": {},
   "source": [
    "#### - What is the probability that no cars drive up in the noon hour?"
   ]
  },
  {
   "cell_type": "code",
   "execution_count": null,
   "id": "197b4be0",
   "metadata": {},
   "outputs": [],
   "source": [
    "#stats.poisson(5).pmf(3) example equation"
   ]
  },
  {
   "cell_type": "code",
   "execution_count": 3,
   "id": "6280f0e3",
   "metadata": {},
   "outputs": [
    {
     "data": {
      "text/plain": [
       "0.1353352832366127"
      ]
     },
     "execution_count": 3,
     "metadata": {},
     "output_type": "execute_result"
    }
   ],
   "source": [
    "# mean of 2 cars, 0 cars. used pmf for specific value\n",
    "stats.poisson(2).pmf(0)"
   ]
  },
  {
   "cell_type": "markdown",
   "id": "5a609b3a",
   "metadata": {},
   "source": [
    "\\mu == mean symbol"
   ]
  },
  {
   "cell_type": "code",
   "execution_count": 114,
   "id": "accc301f",
   "metadata": {},
   "outputs": [
    {
     "data": {
      "image/png": "[encoded data removed]",
      "text/plain": [
       "<Figure size 640x480 with 1 Axes>"
      ]
     },
     "metadata": {},
     "output_type": "display_data"
    }
   ],
   "source": [
    "μ = 2\n",
    "x = np.arange(0,11)\n",
    "y = stats.poisson(μ).pmf(x)\n",
    "\n",
    "plt.bar(x,y)\n",
    "plt.title('Poisson Distribution with μ = 2')\n",
    "plt.xlabel('Number of cars during noon hour')\n",
    "plt.ylabel('P(X)')\n",
    "plt.show()"
   ]
  },
  {
   "cell_type": "code",
   "execution_count": null,
   "id": "6fe1b55e",
   "metadata": {},
   "outputs": [],
   "source": []
  },
  {
   "cell_type": "markdown",
   "id": "5a435288",
   "metadata": {},
   "source": [
    "#### - What is the probability that 3 or more cars come through the drive through?"
   ]
  },
  {
   "cell_type": "code",
   "execution_count": 4,
   "id": "acfcda4b",
   "metadata": {},
   "outputs": [
    {
     "data": {
      "text/plain": [
       "0.32332358381693654"
      ]
     },
     "execution_count": 4,
     "metadata": {},
     "output_type": "execute_result"
    }
   ],
   "source": [
    "# 3 or more cars. used sf(2) to get 3 or higher\n",
    "stats.poisson(2).sf(2)"
   ]
  },
  {
   "cell_type": "code",
   "execution_count": null,
   "id": "78e9c019",
   "metadata": {},
   "outputs": [],
   "source": []
  },
  {
   "cell_type": "markdown",
   "id": "705ff127",
   "metadata": {},
   "source": [
    "#### - How likely is it that the drive through gets at least 1 car?"
   ]
  },
  {
   "cell_type": "code",
   "execution_count": 115,
   "id": "97b14345",
   "metadata": {},
   "outputs": [
    {
     "data": {
      "text/plain": [
       "0.8646647167633873"
      ]
     },
     "execution_count": 115,
     "metadata": {},
     "output_type": "execute_result"
    }
   ],
   "source": [
    "stats.poisson(2).sf(0)"
   ]
  },
  {
   "cell_type": "code",
   "execution_count": null,
   "id": "81d1ac1e",
   "metadata": {},
   "outputs": [],
   "source": []
  },
  {
   "cell_type": "markdown",
   "id": "78300cf0",
   "metadata": {},
   "source": [
    "#### 2. Grades of State University graduates are normally distributed with a mean of 3.0 and a standard deviation of .3. Calculate the following:"
   ]
  },
  {
   "cell_type": "markdown",
   "id": "62f6f2fa",
   "metadata": {},
   "source": [
    "#### - What grade point average is required to be in the top 5% of the graduating class?"
   ]
  },
  {
   "cell_type": "code",
   "execution_count": 6,
   "id": "1aa7351c",
   "metadata": {},
   "outputs": [],
   "source": [
    "mean = 3\n",
    "std = .3"
   ]
  },
  {
   "cell_type": "code",
   "execution_count": 7,
   "id": "36445fba",
   "metadata": {},
   "outputs": [],
   "source": [
    "grades = stats.norm(mean,std)"
   ]
  },
  {
   "cell_type": "code",
   "execution_count": 9,
   "id": "ccf98013",
   "metadata": {},
   "outputs": [
    {
     "data": {
      "text/plain": [
       "3.4934560880854417"
      ]
     },
     "execution_count": 9,
     "metadata": {},
     "output_type": "execute_result"
    }
   ],
   "source": [
    "#.05 or 5% is used to find the value since % is probability\n",
    "grades.isf(.05)"
   ]
  },
  {
   "cell_type": "code",
   "execution_count": null,
   "id": "ef566db1",
   "metadata": {},
   "outputs": [],
   "source": [
    "# sigma sign == \\sigma + tab\n",
    "# μ = 3\n",
    "# σ = 3\n",
    "# grade = stats.norm(μ, σ)\n",
    "# x = np.linespace(μ - 4*σ + 4*σ, 100)\n",
    "# y= grade.pdf(x)\n",
    "\n",
    "# plt.figure(figsize= )"
   ]
  },
  {
   "cell_type": "code",
   "execution_count": null,
   "id": "180e8cbc",
   "metadata": {},
   "outputs": [],
   "source": []
  },
  {
   "cell_type": "markdown",
   "id": "afdfe852",
   "metadata": {},
   "source": [
    "#### - What GPA constitutes the bottom 15% of the class?"
   ]
  },
  {
   "cell_type": "code",
   "execution_count": 10,
   "id": "a9f6db69",
   "metadata": {},
   "outputs": [
    {
     "data": {
      "text/plain": [
       "2.689069983151863"
      ]
     },
     "execution_count": 10,
     "metadata": {},
     "output_type": "execute_result"
    }
   ],
   "source": [
    "# ppf is less than or equal to, .15 == 15%\n",
    "grades.ppf(.15)"
   ]
  },
  {
   "cell_type": "code",
   "execution_count": null,
   "id": "955688e5",
   "metadata": {},
   "outputs": [],
   "source": []
  },
  {
   "cell_type": "markdown",
   "id": "746623e7",
   "metadata": {},
   "source": [
    "#### - An eccentric alumnus left scholarship money for students in the third decile from the bottom of their class. Determine the range of the third decile. Would a student with a 2.8 grade point average qualify for this scholarship?"
   ]
  },
  {
   "cell_type": "code",
   "execution_count": null,
   "id": "54ee7ea7",
   "metadata": {},
   "outputs": [],
   "source": []
  },
  {
   "cell_type": "code",
   "execution_count": 117,
   "id": "4c7a5da4",
   "metadata": {},
   "outputs": [],
   "source": [
    "range_of_gpa = grades.ppf([.2, .3])"
   ]
  },
  {
   "cell_type": "code",
   "execution_count": 118,
   "id": "a4c918b1",
   "metadata": {},
   "outputs": [
    {
     "data": {
      "text/plain": [
       "array([2.74751363, 2.84267985])"
      ]
     },
     "execution_count": 118,
     "metadata": {},
     "output_type": "execute_result"
    }
   ],
   "source": [
    "range_of_gpa"
   ]
  },
  {
   "cell_type": "code",
   "execution_count": 119,
   "id": "cfe2d2d3",
   "metadata": {},
   "outputs": [
    {
     "data": {
      "text/plain": [
       "True"
      ]
     },
     "execution_count": 119,
     "metadata": {},
     "output_type": "execute_result"
    }
   ],
   "source": [
    "(range_of_gpa[0] < 2.8) and (range_of_gpa[1] > 2.8)"
   ]
  },
  {
   "cell_type": "markdown",
   "id": "d401df49",
   "metadata": {},
   "source": [
    "#### - If I have a GPA of 3.5, what percentile am I in?"
   ]
  },
  {
   "cell_type": "code",
   "execution_count": 12,
   "id": "b0fa43c2",
   "metadata": {},
   "outputs": [
    {
     "data": {
      "text/plain": [
       "0.9522096477271853"
      ]
     },
     "execution_count": 12,
     "metadata": {},
     "output_type": "execute_result"
    }
   ],
   "source": [
    "grades.cdf(3.5)"
   ]
  },
  {
   "cell_type": "code",
   "execution_count": 123,
   "id": "d78619f7",
   "metadata": {},
   "outputs": [
    {
     "name": "stdout",
     "output_type": "stream",
     "text": [
      "You are in the 95.0th percentile\n"
     ]
    }
   ],
   "source": [
    "print(f\"You are in the {round(grades.cdf(3.5), 2)* 100}th percentile\")"
   ]
  },
  {
   "cell_type": "markdown",
   "id": "0468149f",
   "metadata": {},
   "source": [
    "#### 3. A marketing website has an average click-through rate of 2%. One day they observe 4326 visitors and 97 click-throughs. How likely is it that this many people or more click through?"
   ]
  },
  {
   "cell_type": "code",
   "execution_count": 13,
   "id": "ac2d98c5",
   "metadata": {
    "scrolled": true
   },
   "outputs": [
    {
     "data": {
      "text/plain": [
       "0.13975823631416448"
      ]
     },
     "execution_count": 13,
     "metadata": {},
     "output_type": "execute_result"
    }
   ],
   "source": [
    "stats.binom(4326, .02).sf(96)"
   ]
  },
  {
   "cell_type": "code",
   "execution_count": 125,
   "id": "abab41cc",
   "metadata": {},
   "outputs": [],
   "source": [
    "p = .02"
   ]
  },
  {
   "cell_type": "markdown",
   "id": "f0d69c61",
   "metadata": {},
   "source": [
    "Walkthrough using simulation"
   ]
  },
  {
   "cell_type": "code",
   "execution_count": 130,
   "id": "754d74f0",
   "metadata": {},
   "outputs": [
    {
     "data": {
      "text/plain": [
       "array([[0, 0, 0, ..., 0, 0, 0],\n",
       "       [0, 0, 0, ..., 0, 0, 0],\n",
       "       [0, 0, 0, ..., 0, 0, 0],\n",
       "       ...,\n",
       "       [0, 0, 0, ..., 0, 0, 0],\n",
       "       [0, 0, 0, ..., 0, 0, 0],\n",
       "       [0, 0, 0, ..., 0, 0, 0]])"
      ]
     },
     "execution_count": 130,
     "metadata": {},
     "output_type": "execute_result"
    }
   ],
   "source": [
    "click = np.random.choice([0,1], (10_000, 4326), p = [.98, .02])\n",
    "click"
   ]
  },
  {
   "cell_type": "code",
   "execution_count": null,
   "id": "3ef6716f",
   "metadata": {},
   "outputs": [],
   "source": []
  },
  {
   "cell_type": "markdown",
   "id": "621fcf5f",
   "metadata": {},
   "source": [
    "#### 4. You are working on some statistics homework consisting of 100 questions where all of the answers are a probability rounded to the hundreths place. Looking to save time, you put down random probabilities as the answer to each question."
   ]
  },
  {
   "cell_type": "markdown",
   "id": "2693f919",
   "metadata": {},
   "source": [
    "#### - What is the probability that at least one of your first 60 answers is correct?"
   ]
  },
  {
   "cell_type": "code",
   "execution_count": 131,
   "id": "63777b21",
   "metadata": {},
   "outputs": [],
   "source": [
    "n = 60 # first 60 questions\n",
    "p = .01 # 1/100\n",
    "\n",
    "stats_hw = stats.binom(n,p)\n"
   ]
  },
  {
   "cell_type": "code",
   "execution_count": 132,
   "id": "6ba2a0b8",
   "metadata": {},
   "outputs": [
    {
     "data": {
      "text/plain": [
       "0.45284335760923855"
      ]
     },
     "execution_count": 132,
     "metadata": {},
     "output_type": "execute_result"
    }
   ],
   "source": [
    "stats_hw.sf(0)"
   ]
  },
  {
   "cell_type": "markdown",
   "id": "127e8fd5",
   "metadata": {},
   "source": [
    "#### 5. The codeup staff tends to get upset when the student break area is not cleaned up. Suppose that there's a 3% chance that any one student cleans the break area when they visit it, and, on any given day, about 90% of the 3 active cohorts of 22 students visit the break area. How likely is it that the break area gets cleaned up each day? How likely is it that it goes two days without getting cleaned up? All week?"
   ]
  },
  {
   "cell_type": "code",
   "execution_count": null,
   "id": "84a3b6ce",
   "metadata": {},
   "outputs": [],
   "source": [
    "# clean or not clean == binomial\n",
    "# 3% = 1 Student cleaning\n",
    "# 22 * 3 = 66\n",
    "# 90% of 66 = 59"
   ]
  },
  {
   "cell_type": "code",
   "execution_count": 104,
   "id": "ab374ec6",
   "metadata": {},
   "outputs": [
    {
     "data": {
      "text/plain": [
       "0.8342199288437352"
      ]
     },
     "execution_count": 104,
     "metadata": {},
     "output_type": "execute_result"
    }
   ],
   "source": [
    "stats.binom(59, .03).sf(0) \n",
    "# 59 is 90% of students visiting breakroom, .03 is 3% chance of each student cleaning\n",
    "# sf(1) == 1 day. used sf since we had a given value"
   ]
  },
  {
   "cell_type": "code",
   "execution_count": 135,
   "id": "4ec5abb0",
   "metadata": {},
   "outputs": [],
   "source": [
    "n_students = round((22*3)*.9)\n",
    "p=.03"
   ]
  },
  {
   "cell_type": "code",
   "execution_count": 136,
   "id": "9336b1ad",
   "metadata": {},
   "outputs": [],
   "source": [
    "clean = stats.binom(n_students, p)"
   ]
  },
  {
   "cell_type": "code",
   "execution_count": 137,
   "id": "5ca8e98f",
   "metadata": {},
   "outputs": [
    {
     "data": {
      "text/plain": [
       "0.8342199288437352"
      ]
     },
     "execution_count": 137,
     "metadata": {},
     "output_type": "execute_result"
    }
   ],
   "source": [
    "clean.sf(0)"
   ]
  },
  {
   "cell_type": "markdown",
   "id": "f0bd2201",
   "metadata": {},
   "source": [
    "What about 2 days?"
   ]
  },
  {
   "cell_type": "code",
   "execution_count": 111,
   "id": "9409feff",
   "metadata": {},
   "outputs": [],
   "source": [
    "# one_day = stats.binom(59, .03).sf(0) "
   ]
  },
  {
   "cell_type": "code",
   "execution_count": 144,
   "id": "5e38b549",
   "metadata": {},
   "outputs": [],
   "source": [
    "# stats.binom(59, .03).sf(2) # 2 days in a row"
   ]
  },
  {
   "cell_type": "code",
   "execution_count": 140,
   "id": "12ec7883",
   "metadata": {},
   "outputs": [],
   "source": [
    "n2 = n_students * 2"
   ]
  },
  {
   "cell_type": "code",
   "execution_count": 141,
   "id": "27866d95",
   "metadata": {},
   "outputs": [],
   "source": [
    "notclean_2 = stats.binom(n2,p)"
   ]
  },
  {
   "cell_type": "code",
   "execution_count": 143,
   "id": "cd625359",
   "metadata": {},
   "outputs": [
    {
     "data": {
      "text/plain": [
       "0.027483031992576134"
      ]
     },
     "execution_count": 143,
     "metadata": {},
     "output_type": "execute_result"
    }
   ],
   "source": [
    "notclean_2.pmf(0)"
   ]
  },
  {
   "cell_type": "markdown",
   "id": "13545fba",
   "metadata": {},
   "source": [
    "What about 1 week or 5 days"
   ]
  },
  {
   "cell_type": "code",
   "execution_count": 145,
   "id": "fabc15c4",
   "metadata": {},
   "outputs": [],
   "source": [
    "n5 = n_students * 5\n",
    "notclean_5 = stats.binom(n5,p)"
   ]
  },
  {
   "cell_type": "code",
   "execution_count": 146,
   "id": "827d521d",
   "metadata": {},
   "outputs": [
    {
     "data": {
      "text/plain": [
       "0.00012521651388091245"
      ]
     },
     "execution_count": 146,
     "metadata": {},
     "output_type": "execute_result"
    }
   ],
   "source": [
    "notclean_5.pmf(0)"
   ]
  },
  {
   "cell_type": "code",
   "execution_count": 147,
   "id": "ca049b03",
   "metadata": {},
   "outputs": [
    {
     "data": {
      "text/plain": [
       "295"
      ]
     },
     "execution_count": 147,
     "metadata": {},
     "output_type": "execute_result"
    }
   ],
   "source": []
  },
  {
   "cell_type": "code",
   "execution_count": 150,
   "id": "5d974a42",
   "metadata": {},
   "outputs": [
    {
     "data": {
      "text/plain": [
       "0.00012521651388091245"
      ]
     },
     "execution_count": 150,
     "metadata": {},
     "output_type": "execute_result"
    }
   ],
   "source": [
    "stats.binom(295, .03).pmf(0) # 5 days or all week"
   ]
  },
  {
   "cell_type": "markdown",
   "id": "b922f5e9",
   "metadata": {},
   "source": [
    "#### 6. You want to get lunch at La Panaderia, but notice that the line is usually very long at lunchtime. After several weeks of careful observation, you notice that the average number of people in line when your lunch break starts is normally distributed with a mean of 15 and standard deviation of 3. If it takes 2 minutes for each person to order, and 10 minutes from ordering to getting your food, what is the likelihood that you have at least 15 minutes left to eat your food before you have to go back to class? Assume you have one hour for lunch, and ignore travel time to and from La Panaderia."
   ]
  },
  {
   "cell_type": "code",
   "execution_count": 25,
   "id": "0f80c89d",
   "metadata": {},
   "outputs": [],
   "source": [
    "pan_mean = 15\n",
    "pan_std = 3\n",
    "# 2 min to order\n",
    "# 10 min food ready\n",
    "# 1 hr lunch"
   ]
  },
  {
   "cell_type": "code",
   "execution_count": 156,
   "id": "77cbc250",
   "metadata": {},
   "outputs": [
    {
     "data": {
      "text/plain": [
       "0.6305586598182363"
      ]
     },
     "execution_count": 156,
     "metadata": {},
     "output_type": "execute_result"
    }
   ],
   "source": [
    "stats.norm(pan_mean, pan_std).cdf(16)"
   ]
  },
  {
   "cell_type": "code",
   "execution_count": null,
   "id": "0f6c4bb6",
   "metadata": {},
   "outputs": [],
   "source": [
    "# 15 people in line each taking 2 min to order == 30 min\n",
    "# once its my turn to order it'll take 12 min from order to ready == 42 min\n",
    "# 17 people is the cutoff for me to have at least 15 min remaining"
   ]
  },
  {
   "cell_type": "code",
   "execution_count": 151,
   "id": "c4065c33",
   "metadata": {},
   "outputs": [
    {
     "data": {
      "text/plain": [
       "33"
      ]
     },
     "execution_count": 151,
     "metadata": {},
     "output_type": "execute_result"
    }
   ],
   "source": [
    "μ = 15 * 2\n",
    "σ = 3 * 2\n",
    "\n",
    "total_lunch_time = 60 #min\n",
    "eat_time = 15 #min\n",
    "order_time = 2 # min\n",
    "wait_time = 10 #min\n",
    "\n",
    "max_wait = (total_lunch_time - eat_time) - order_time - wait_time\n",
    "max_wait"
   ]
  },
  {
   "cell_type": "code",
   "execution_count": 154,
   "id": "010f16c4",
   "metadata": {},
   "outputs": [
    {
     "data": {
      "text/plain": [
       "0.6914624612740131"
      ]
     },
     "execution_count": 154,
     "metadata": {},
     "output_type": "execute_result"
    }
   ],
   "source": [
    "stats.norm(μ,σ).cdf(max_wait)"
   ]
  },
  {
   "cell_type": "markdown",
   "id": "6b2b9a5e",
   "metadata": {},
   "source": [
    "#### 7. Connect to the employees database and find the average salary of current employees, along with the standard deviation. For the following questions, calculate the answer based on modeling the employees salaries with a normal distribution defined by the calculated mean and standard deviation then compare this answer to the actual values present in the salaries dataset."
   ]
  },
  {
   "cell_type": "markdown",
   "id": "075272c9",
   "metadata": {},
   "source": [
    "#### - What percent of employees earn less than 60,000?"
   ]
  },
  {
   "cell_type": "code",
   "execution_count": 65,
   "id": "e3309252",
   "metadata": {},
   "outputs": [
    {
     "data": {
      "text/plain": [
       "64971"
      ]
     },
     "execution_count": 65,
     "metadata": {},
     "output_type": "execute_result"
    }
   ],
   "source": [
    "(emp_cur_salary['salary'] < 60_000).sum()"
   ]
  },
  {
   "cell_type": "code",
   "execution_count": 67,
   "id": "fb90251d",
   "metadata": {},
   "outputs": [
    {
     "data": {
      "text/plain": [
       "0.2705727041028802"
      ]
     },
     "execution_count": 67,
     "metadata": {},
     "output_type": "execute_result"
    }
   ],
   "source": [
    "((emp_cur_salary['salary'] < 60_000).sum())/len(emp_cur_salary)"
   ]
  },
  {
   "cell_type": "code",
   "execution_count": 84,
   "id": "6660ffe9",
   "metadata": {},
   "outputs": [
    {
     "data": {
      "text/plain": [
       "0.24385690499062396"
      ]
     },
     "execution_count": 84,
     "metadata": {},
     "output_type": "execute_result"
    }
   ],
   "source": [
    "stats.norm(avg_salary, std_salary).cdf(60_000)"
   ]
  },
  {
   "cell_type": "markdown",
   "id": "8ad1ad27",
   "metadata": {},
   "source": [
    "#### - What percent of employees earn more than 95,000?"
   ]
  },
  {
   "cell_type": "code",
   "execution_count": 158,
   "id": "804285b0",
   "metadata": {},
   "outputs": [
    {
     "data": {
      "text/plain": [
       "0.09208778318255045"
      ]
     },
     "execution_count": 158,
     "metadata": {},
     "output_type": "execute_result"
    }
   ],
   "source": [
    "stats.norm(avg_salary, std_salary).sf(95_000)"
   ]
  },
  {
   "cell_type": "markdown",
   "id": "96b9ae0d",
   "metadata": {},
   "source": [
    "#### - What percent of employees earn between 65,000 and 80,000?"
   ]
  },
  {
   "cell_type": "code",
   "execution_count": 101,
   "id": "e73d3f1c",
   "metadata": {},
   "outputs": [
    {
     "data": {
      "text/plain": [
       "0.33506121323503213"
      ]
     },
     "execution_count": 101,
     "metadata": {},
     "output_type": "execute_result"
    }
   ],
   "source": [
    "1 - (stats.norm(avg_salary, std_salary).cdf(65_000) + stats.norm(avg_salary, std_salary).sf(80_000))"
   ]
  },
  {
   "cell_type": "code",
   "execution_count": 159,
   "id": "ba139d68",
   "metadata": {},
   "outputs": [
    {
     "data": {
      "text/plain": [
       "array([0.33506121])"
      ]
     },
     "execution_count": 159,
     "metadata": {},
     "output_type": "execute_result"
    }
   ],
   "source": [
    "np.diff(stats.norm(avg_salary, std_salary).cdf([65_000, 80_000]))"
   ]
  },
  {
   "cell_type": "markdown",
   "id": "52070566",
   "metadata": {},
   "source": [
    "#### - What do the top 5% of employees make?"
   ]
  },
  {
   "cell_type": "code",
   "execution_count": 98,
   "id": "8c0f607f",
   "metadata": {},
   "outputs": [
    {
     "data": {
      "text/plain": [
       "100484.59048838491"
      ]
     },
     "execution_count": 98,
     "metadata": {},
     "output_type": "execute_result"
    }
   ],
   "source": [
    "stats.norm(avg_salary, std_salary).isf(.05)"
   ]
  },
  {
   "cell_type": "markdown",
   "id": "a75b2c5c",
   "metadata": {},
   "source": [
    "#### Hint If you're looking at this exercise and wondering \"How do I get pandas to talk the database, again?\", remember that you'll need 3 things: your .gitignore, your env.py, and to use pd.read_sql. Copy over your .gitignore and env.py from your data science libraries exercises folder, and connect to the employees database like so:"
   ]
  },
  {
   "cell_type": "code",
   "execution_count": 40,
   "id": "ec4455a8",
   "metadata": {},
   "outputs": [],
   "source": [
    "import pandas as pd\n",
    "\n",
    "# url = f'mysql+pymysql://{env.user}:{env.password}@{env.host}/employees'\n",
    "# pd.read_sql('SELECT * FROM departments', url)\n"
   ]
  },
  {
   "cell_type": "code",
   "execution_count": 42,
   "id": "d9615af1",
   "metadata": {},
   "outputs": [],
   "source": [
    "from env import username, password, get_db_url"
   ]
  },
  {
   "cell_type": "code",
   "execution_count": 43,
   "id": "5762eb25",
   "metadata": {},
   "outputs": [],
   "source": [
    "url = get_db_url('employees')"
   ]
  },
  {
   "cell_type": "code",
   "execution_count": 49,
   "id": "678ae710",
   "metadata": {},
   "outputs": [],
   "source": [
    "avg_cur_salary = pd.read_sql('select round(avg(salary), 2) from salaries where to_date > now()', url)"
   ]
  },
  {
   "cell_type": "code",
   "execution_count": 78,
   "id": "955e7baa",
   "metadata": {},
   "outputs": [],
   "source": [
    "avg_salary = avg_cur_salary['round(avg(salary), 2)'][0]"
   ]
  },
  {
   "cell_type": "code",
   "execution_count": 52,
   "id": "5d36c8f8",
   "metadata": {},
   "outputs": [],
   "source": [
    "std_cur_salary = pd.read_sql('select round(std(salary), 2) from salaries where to_date > now()', url)"
   ]
  },
  {
   "cell_type": "code",
   "execution_count": 83,
   "id": "1dad40d3",
   "metadata": {},
   "outputs": [],
   "source": [
    "std_salary = std_cur_salary['round(std(salary), 2)'][0]"
   ]
  },
  {
   "cell_type": "code",
   "execution_count": 55,
   "id": "a7b35451",
   "metadata": {},
   "outputs": [],
   "source": [
    "emp_cur_salary = pd.read_sql('select emp_no, salary from employees join salaries using(emp_no) where to_date > now()', url)"
   ]
  },
  {
   "cell_type": "code",
   "execution_count": 57,
   "id": "9f9d9402",
   "metadata": {},
   "outputs": [
    {
     "data": {
      "text/html": [
       "<div>\n",
       "<style scoped>\n",
       "    .dataframe tbody tr th:only-of-type {\n",
       "        vertical-align: middle;\n",
       "    }\n",
       "\n",
       "    .dataframe tbody tr th {\n",
       "        vertical-align: top;\n",
       "    }\n",
       "\n",
       "    .dataframe thead th {\n",
       "        text-align: right;\n",
       "    }\n",
       "</style>\n",
       "<table border=\"1\" class=\"dataframe\">\n",
       "  <thead>\n",
       "    <tr style=\"text-align: right;\">\n",
       "      <th></th>\n",
       "      <th>emp_no</th>\n",
       "      <th>salary</th>\n",
       "    </tr>\n",
       "  </thead>\n",
       "  <tbody>\n",
       "    <tr>\n",
       "      <th>0</th>\n",
       "      <td>10001</td>\n",
       "      <td>88958</td>\n",
       "    </tr>\n",
       "    <tr>\n",
       "      <th>1</th>\n",
       "      <td>10002</td>\n",
       "      <td>72527</td>\n",
       "    </tr>\n",
       "    <tr>\n",
       "      <th>2</th>\n",
       "      <td>10003</td>\n",
       "      <td>43311</td>\n",
       "    </tr>\n",
       "    <tr>\n",
       "      <th>3</th>\n",
       "      <td>10004</td>\n",
       "      <td>74057</td>\n",
       "    </tr>\n",
       "    <tr>\n",
       "      <th>4</th>\n",
       "      <td>10005</td>\n",
       "      <td>94692</td>\n",
       "    </tr>\n",
       "  </tbody>\n",
       "</table>\n",
       "</div>"
      ],
      "text/plain": [
       "   emp_no  salary\n",
       "0   10001   88958\n",
       "1   10002   72527\n",
       "2   10003   43311\n",
       "3   10004   74057\n",
       "4   10005   94692"
      ]
     },
     "execution_count": 57,
     "metadata": {},
     "output_type": "execute_result"
    }
   ],
   "source": [
    "emp_cur_salary.head()"
   ]
  },
  {
   "cell_type": "code",
   "execution_count": null,
   "id": "22890f91",
   "metadata": {},
   "outputs": [],
   "source": []
  }
 ],
 "metadata": {
  "kernelspec": {
   "display_name": "Python 3 (ipykernel)",
   "language": "python",
   "name": "python3"
  },
  "language_info": {
   "codemirror_mode": {
    "name": "ipython",
    "version": 3
   },
   "file_extension": ".py",
   "mimetype": "text/x-python",
   "name": "python",
   "nbconvert_exporter": "python",
   "pygments_lexer": "ipython3",
   "version": "3.9.13"
  }
 },
 "nbformat": 4,
 "nbformat_minor": 5
}
